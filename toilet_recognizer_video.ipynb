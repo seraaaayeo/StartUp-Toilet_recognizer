{
 "cells": [
  {
   "cell_type": "code",
   "execution_count": 1,
   "metadata": {},
   "outputs": [],
   "source": [
    "import dlib\n",
    "import cv2\n",
    "import numpy as np"
   ]
  },
  {
   "cell_type": "code",
   "execution_count": 2,
   "metadata": {},
   "outputs": [],
   "source": [
    "detector = dlib.get_frontal_face_detector()\n",
    "sp = dlib.shape_predictor('models/shape_predictor_68_face_landmarks.dat')\n",
    "facerec = dlib.face_recognition_model_v1('models/dlib_face_recognition_resnet_model_v1.dat')"
   ]
  },
  {
   "cell_type": "code",
   "execution_count": 3,
   "metadata": {},
   "outputs": [],
   "source": [
    "descs = np.load('data/descs3.npy', allow_pickle=True)[()]"
   ]
  },
  {
   "cell_type": "code",
   "execution_count": 4,
   "metadata": {},
   "outputs": [],
   "source": [
    "def encode_face(img):\n",
    "    dets = detector(img, 1)\n",
    "\n",
    "    if len(dets) == 0:\n",
    "        return np.empty(0)\n",
    "\n",
    "    for k, d in enumerate(dets):\n",
    "        shape = sp(img, d)\n",
    "        face_descriptor = facerec.compute_face_descriptor(img, shape)\n",
    "\n",
    "        return np.array(face_descriptor)"
   ]
  },
  {
   "cell_type": "code",
   "execution_count": 5,
   "metadata": {},
   "outputs": [],
   "source": [
    "video_path = 'data/testvideo2.mp4'\n",
    "cap = cv2.VideoCapture(video_path)"
   ]
  },
  {
   "cell_type": "code",
   "execution_count": 6,
   "metadata": {},
   "outputs": [],
   "source": [
    "if not cap.isOpened():\n",
    "    exit()\n",
    "\n",
    "_, img_bgr = cap.read()\n",
    "padding_size = 0\n",
    "resized_width = 438\n",
    "video_size = (resized_width, int(img_bgr.shape[0] * resized_width // img_bgr.shape[1]))\n",
    "output_size = (resized_width, int(img_bgr.shape[0] * resized_width // img_bgr.shape[1] + padding_size * 2))\n",
    "\n",
    "fourcc = cv2.VideoWriter_fourcc('m', 'p', '4', 'v')\n",
    "writer = cv2.VideoWriter('output/output.mp4', fourcc, cap.get(cv2.CAP_PROP_FPS), output_size)"
   ]
  },
  {
   "cell_type": "code",
   "execution_count": 7,
   "metadata": {},
   "outputs": [],
   "source": [
    "while True:\n",
    "    ret, img_bgr = cap.read()\n",
    "    if not ret:\n",
    "        break\n",
    "\n",
    "    img_bgr = cv2.resize(img_bgr, video_size)\n",
    "    img_rgb = cv2.cvtColor(img_bgr, cv2.COLOR_BGR2RGB)\n",
    "\n",
    "    # img_bgr = cv2.copyMakeBorder(img_bgr, top=padding_size, bottom=padding_size, left=0, right=0, borderType=cv2.BORDER_CONSTANT, value=(0,0,0))\n",
    "\n",
    "    dets = detector(img_bgr, 1)\n",
    "\n",
    "    for k, d in enumerate(dets):\n",
    "        shape = sp(img_rgb, d)\n",
    "        face_descriptor = facerec.compute_face_descriptor(img_rgb, shape)\n",
    "\n",
    "        last_found = {'name': 'Face', 'dist': 0.45, 'color': (0,255,0)}\n",
    "\n",
    "        for name, saved_desc in descs.items():\n",
    "            dist = np.linalg.norm([face_descriptor] - saved_desc, axis=1)\n",
    "\n",
    "            if dist < last_found['dist']:\n",
    "                last_found = {'name': name, 'dist': dist, 'color': (255,0,0)}\n",
    "\n",
    "        cv2.rectangle(img_bgr, pt1=(d.left(), d.top()), pt2=(d.right(), d.bottom()), color=last_found['color'], thickness=2)\n",
    "        cv2.putText(img_bgr, last_found['name'], org=(d.left(), d.top()), fontFace=cv2.FONT_HERSHEY_SIMPLEX, fontScale=1, color=last_found['color'], thickness=2)\n",
    "\n",
    "    writer.write(img_bgr)\n",
    "\n",
    "    cv2.imshow('img', img_bgr)\n",
    "    if cv2.waitKey(1) == ord('q'):\n",
    "        break\n",
    "\n",
    "cap.release()\n",
    "writer.release()"
   ]
  },
  {
   "cell_type": "code",
   "execution_count": null,
   "metadata": {},
   "outputs": [],
   "source": []
  }
 ],
 "metadata": {
  "kernelspec": {
   "display_name": "Python 3",
   "language": "python",
   "name": "python3"
  },
  "language_info": {
   "codemirror_mode": {
    "name": "ipython",
    "version": 3
   },
   "file_extension": ".py",
   "mimetype": "text/x-python",
   "name": "python",
   "nbconvert_exporter": "python",
   "pygments_lexer": "ipython3",
   "version": "3.7.9"
  }
 },
 "nbformat": 4,
 "nbformat_minor": 4
}
